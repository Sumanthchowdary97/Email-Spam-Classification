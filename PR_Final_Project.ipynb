{
  "nbformat": 4,
  "nbformat_minor": 0,
  "metadata": {
    "colab": {
      "name": "PR_Final_Project.ipynb",
      "provenance": [],
      "collapsed_sections": []
    },
    "kernelspec": {
      "name": "python3",
      "display_name": "Python 3"
    },
    "language_info": {
      "name": "python"
    }
  },
  "cells": [
    {
      "cell_type": "markdown",
      "metadata": {
        "id": "Ah9u6s2t2Tdv"
      },
      "source": [
        "Installing necessary libraries"
      ]
    },
    {
      "cell_type": "code",
      "metadata": {
        "colab": {
          "base_uri": "https://localhost:8080/"
        },
        "id": "98jSChx-2M7r",
        "outputId": "3f59c6a2-c0b7-4da8-aa38-5b545beee799"
      },
      "source": [
        "!pip install pandas\n",
        "!pip install numpy\n",
        "!pip install chardet\n",
        "!pip install sklearn\n",
        "!pip install gensim"
      ],
      "execution_count": null,
      "outputs": [
        {
          "output_type": "stream",
          "text": [
            "Requirement already satisfied: pandas in /usr/local/lib/python3.7/dist-packages (1.1.5)\n",
            "Requirement already satisfied: python-dateutil>=2.7.3 in /usr/local/lib/python3.7/dist-packages (from pandas) (2.8.1)\n",
            "Requirement already satisfied: numpy>=1.15.4 in /usr/local/lib/python3.7/dist-packages (from pandas) (1.19.5)\n",
            "Requirement already satisfied: pytz>=2017.2 in /usr/local/lib/python3.7/dist-packages (from pandas) (2018.9)\n",
            "Requirement already satisfied: six>=1.5 in /usr/local/lib/python3.7/dist-packages (from python-dateutil>=2.7.3->pandas) (1.15.0)\n",
            "Requirement already satisfied: numpy in /usr/local/lib/python3.7/dist-packages (1.19.5)\n",
            "Requirement already satisfied: chardet in /usr/local/lib/python3.7/dist-packages (3.0.4)\n",
            "Requirement already satisfied: sklearn in /usr/local/lib/python3.7/dist-packages (0.0)\n",
            "Requirement already satisfied: scikit-learn in /usr/local/lib/python3.7/dist-packages (from sklearn) (0.22.2.post1)\n",
            "Requirement already satisfied: numpy>=1.11.0 in /usr/local/lib/python3.7/dist-packages (from scikit-learn->sklearn) (1.19.5)\n",
            "Requirement already satisfied: joblib>=0.11 in /usr/local/lib/python3.7/dist-packages (from scikit-learn->sklearn) (1.0.1)\n",
            "Requirement already satisfied: scipy>=0.17.0 in /usr/local/lib/python3.7/dist-packages (from scikit-learn->sklearn) (1.4.1)\n",
            "Requirement already satisfied: gensim in /usr/local/lib/python3.7/dist-packages (3.6.0)\n",
            "Requirement already satisfied: smart-open>=1.2.1 in /usr/local/lib/python3.7/dist-packages (from gensim) (5.0.0)\n",
            "Requirement already satisfied: six>=1.5.0 in /usr/local/lib/python3.7/dist-packages (from gensim) (1.15.0)\n",
            "Requirement already satisfied: numpy>=1.11.3 in /usr/local/lib/python3.7/dist-packages (from gensim) (1.19.5)\n",
            "Requirement already satisfied: scipy>=0.18.1 in /usr/local/lib/python3.7/dist-packages (from gensim) (1.4.1)\n"
          ],
          "name": "stdout"
        }
      ]
    },
    {
      "cell_type": "markdown",
      "metadata": {
        "id": "h9KyJ8ce2yzX"
      },
      "source": [
        "Making necessary imports\n",
        "\n"
      ]
    },
    {
      "cell_type": "code",
      "metadata": {
        "id": "oyRvU3iv2cIh"
      },
      "source": [
        "import pandas as pd\n",
        "import numpy as np\n",
        "import chardet as cd\n",
        "from gensim import parsing\n",
        "from sklearn import naive_bayes, svm\n",
        "from sklearn.metrics import accuracy_score, precision_score, recall_score, roc_auc_score, confusion_matrix\n",
        "from sklearn.feature_extraction.text import CountVectorizer"
      ],
      "execution_count": null,
      "outputs": []
    },
    {
      "cell_type": "markdown",
      "metadata": {
        "id": "P_RE6UF_3lYt"
      },
      "source": [
        "Reading from CSV file and Preprocessing the data"
      ]
    },
    {
      "cell_type": "code",
      "metadata": {
        "colab": {
          "base_uri": "https://localhost:8080/"
        },
        "id": "tlYfmpXk3ZPp",
        "outputId": "61eb7cee-7fd5-4e81-c47a-cc3b7b8ca8b3"
      },
      "source": [
        "with open('data.csv', 'rb') as file:\n",
        "    data = cd.detect(file.read())\n",
        "\n",
        "dataframe = pd.read_csv('data.csv', encoding = data['encoding'])\n",
        "dataframe = dataframe.drop([\"Unnamed: 2\", \"Unnamed: 3\", \"Unnamed: 4\"], axis=1)\n",
        "dataframe['v1'] = dataframe.v1.map({'ham':0, 'spam':1})\n",
        "\n",
        "dataset = dataframe.values\n",
        "\n",
        "print(\"The first ten rows are: \\n\")\n",
        "print(dataframe.head(10))\n",
        "\n",
        "np.random.shuffle(dataset)\n",
        "\n",
        "X = dataset[:,1]\n",
        "Y = dataset[:,0]\n",
        "Y = Y.astype('int')\n",
        "\n",
        "for i in range(X.shape[0]):\n",
        "    X[i] = parsing.stem_text(X[i].lower())\n",
        "\n",
        "vectorizer = CountVectorizer()\n",
        "X_processed = vectorizer.fit_transform(X)"
      ],
      "execution_count": null,
      "outputs": [
        {
          "output_type": "stream",
          "text": [
            "The first ten rows are: \n",
            "\n",
            "   v1                                                 v2\n",
            "0   0  Go until jurong point, crazy.. Available only ...\n",
            "1   0                      Ok lar... Joking wif u oni...\n",
            "2   1  Free entry in 2 a wkly comp to win FA Cup fina...\n",
            "3   0  U dun say so early hor... U c already then say...\n",
            "4   0  Nah I don't think he goes to usf, he lives aro...\n",
            "5   1  FreeMsg Hey there darling it's been 3 week's n...\n",
            "6   0  Even my brother is not like to speak with me. ...\n",
            "7   0  As per your request 'Melle Melle (Oru Minnamin...\n",
            "8   1  WINNER!! As a valued network customer you have...\n",
            "9   1  Had your mobile 11 months or more? U R entitle...\n"
          ],
          "name": "stdout"
        }
      ]
    },
    {
      "cell_type": "markdown",
      "metadata": {
        "id": "LPU05Z6r31Ar"
      },
      "source": [
        "Splitting the dataset into Training data and Test data"
      ]
    },
    {
      "cell_type": "code",
      "metadata": {
        "colab": {
          "base_uri": "https://localhost:8080/"
        },
        "id": "Cx3v8nKo3oeu",
        "outputId": "9eb79597-a24d-43c8-a14d-8fcd8e33db2d"
      },
      "source": [
        "X_train = X_processed[0:4500,:]\n",
        "Y_train = Y[0:4500]\n",
        "X_test = X_processed[4500:,:]\n",
        "Y_test = Y[4500:]\n",
        "\n",
        "print(\"The shape of training data is :\", X_train.shape)\n",
        "print(\"The shape of test data is :\", X_test.shape)"
      ],
      "execution_count": null,
      "outputs": [
        {
          "output_type": "stream",
          "text": [
            "The shape of training data is : (4500, 8265)\n",
            "The shape of test data is : (1072, 8265)\n"
          ],
          "name": "stdout"
        }
      ]
    },
    {
      "cell_type": "markdown",
      "metadata": {
        "id": "zXiLOBB64Qtx"
      },
      "source": [
        "Function to print various metrics of different models"
      ]
    },
    {
      "cell_type": "code",
      "metadata": {
        "id": "u-3Ajo6Q3_mK"
      },
      "source": [
        "def scores(Y_actual, Y_predicted, model):\n",
        "    if model == 1:\n",
        "      print(\"\\nThe metrics of Naive Bayes classifier are :\")\n",
        "    if model == 2:\n",
        "      print(\"\\nThe metrics of Support Vector Classifier are:\")\n",
        "    print(\"\\nAccuracy score is :\" ,  accuracy_score(Y_actual, Y_predicted))\n",
        "    print(\"\\nPrecision score is :\" ,  precision_score(Y_actual, Y_predicted))\n",
        "    print(\"\\nRecall score is :\" ,  recall_score(Y_actual, Y_predicted))\n",
        "    print(\"\\nROC AUC score  is :\" ,  roc_auc_score(Y_actual,Y_predicted))\n",
        "    print(\"\\nConfusion Matrix : \\n\")\n",
        "    print(confusion_matrix(Y_actual, Y_predicted))\n",
        "    print(\"\\n\")"
      ],
      "execution_count": null,
      "outputs": []
    },
    {
      "cell_type": "markdown",
      "metadata": {
        "id": "8IViRaao4sFM"
      },
      "source": [
        "Fitting the Multinomial Naive Bayes model and SVM"
      ]
    },
    {
      "cell_type": "code",
      "metadata": {
        "colab": {
          "base_uri": "https://localhost:8080/"
        },
        "id": "VDilIc3l4ZdF",
        "outputId": "b265282b-bf67-4058-e3e4-18b252aaf3e5"
      },
      "source": [
        "bayes_classifier = naive_bayes.MultinomialNB()\n",
        "svm_classifier = svm.SVC(C = 1000)\n",
        "\n",
        "bayes_classifier.fit(X_train, Y_train)\n",
        "svm_classifier.fit(X_train, Y_train)\n",
        "\n",
        "Y_predicted_bayes = bayes_classifier.predict(X_test)\n",
        "Y_predicted_svm = svm_classifier.predict(X_test)\n",
        "\n",
        "scores(Y_test, Y_predicted_bayes, 1)\n",
        "scores(Y_test, Y_predicted_svm, 2)"
      ],
      "execution_count": null,
      "outputs": [
        {
          "output_type": "stream",
          "text": [
            "\n",
            "The metrics of Naive Bayes classifier are :\n",
            "\n",
            "Accuracy score is : 0.9841417910447762\n",
            "\n",
            "Precision score is : 0.9411764705882353\n",
            "\n",
            "Recall score is : 0.9343065693430657\n",
            "\n",
            "ROC AUC score  is : 0.9628752098052227\n",
            "\n",
            "Confusion Matrix : \n",
            "\n",
            "[[927   8]\n",
            " [  9 128]]\n",
            "\n",
            "\n",
            "\n",
            "The metrics of Support Vector Classifier are:\n",
            "\n",
            "Accuracy score is : 0.9850746268656716\n",
            "\n",
            "Precision score is : 1.0\n",
            "\n",
            "Recall score is : 0.8832116788321168\n",
            "\n",
            "ROC AUC score  is : 0.9416058394160585\n",
            "\n",
            "Confusion Matrix : \n",
            "\n",
            "[[935   0]\n",
            " [ 16 121]]\n",
            "\n",
            "\n"
          ],
          "name": "stdout"
        }
      ]
    },
    {
      "cell_type": "markdown",
      "metadata": {
        "id": "ta9f_YTT5DAE"
      },
      "source": [
        "Function to check new messages and predict as Ham/Spam"
      ]
    },
    {
      "cell_type": "code",
      "metadata": {
        "colab": {
          "base_uri": "https://localhost:8080/"
        },
        "id": "7hZcXYVS5YYw",
        "outputId": "f9605c02-490a-4564-aa34-f761b580d5bf"
      },
      "source": [
        "def test(message):\n",
        "    message = message.lower()\n",
        "    message = parsing.stem_text(message)\n",
        "    message_vector = vectorizer.transform([message])\n",
        "\n",
        "    if bayes_classifier.predict(message_vector) == 1:\n",
        "      bayes_result = \"Spam\"  \n",
        "    else:\n",
        "      bayes_result = \"Ham\"\n",
        "      \n",
        "    if svm_classifier.predict(message_vector) == 1:\n",
        "      svm_result = \"Spam\"\n",
        "    else:\n",
        "      svm_result = \"Ham\"\n",
        "\n",
        "    print(\"According to Bayes Classifier the message is :\", bayes_result)\n",
        "    print(\"According to SVM Classifier the message is :\", svm_result)\n",
        "\n",
        "\n",
        "message1 = \"Avail exciting discounts. Click to know more.\"\n",
        "print(\"The message is : \", message1)\n",
        "test(message1)\n",
        "\n",
        "message2 = \"Claim your free rewards. Get upto $100 off.\"\n",
        "print(\"\\nThe message is : \", message2)\n",
        "test(message2)\n",
        "\n",
        "message3 = \"Have you seen the latest \\Red Barbie\\? It comes with all of K ****B****!\"\n",
        "print(\"\\nThe message is : \", message3)\n",
        "test(message3)\n",
        "\n",
        "message4 = \"Find your special one on www.areyouunique.co.uk\"\n",
        "print(\"\\nThe message is : \", message4)\n",
        "test(message4)\n",
        "\n",
        "message5 = \"Congrats! Special cinema pass for 10 is yours. call 09061209465 now! C Suprman V, Avngrs III, Wondrwmn 2, etc all 4 FREE! bx420-ip4-5we. 150pm. Dont miss out! \"\n",
        "print(\"\\nThe message is : \", message5)\n",
        "test(message5)\n",
        "\n",
        "message6 = \"Safely straiten teeth 100% from home!. Exciting rewards as well. Call 1234567890 to knw mre. $$$$$ click $$$$\"\n",
        "print(\"\\nThe message is : \", message6)\n",
        "test(message6)"
      ],
      "execution_count": null,
      "outputs": [
        {
          "output_type": "stream",
          "text": [
            "The message is :  Avail exciting discounts. Click to know more.\n",
            "According to Bayes Classifier the message is : Ham\n",
            "According to SVM Classifier the message is : Ham\n",
            "\n",
            "The message is :  Claim your free rewards. Get upto $100 off.\n",
            "According to Bayes Classifier the message is : Spam\n",
            "According to SVM Classifier the message is : Spam\n",
            "\n",
            "The message is :  Have you seen the latest \\Red Barbie\\? It comes with all of K ****B****!\n",
            "According to Bayes Classifier the message is : Ham\n",
            "According to SVM Classifier the message is : Ham\n",
            "\n",
            "The message is :  Find your special one on www.areyouunique.co.uk\n",
            "According to Bayes Classifier the message is : Spam\n",
            "According to SVM Classifier the message is : Spam\n",
            "\n",
            "The message is :  Congrats! Special cinema pass for 10 is yours. call 09061209465 now! C Suprman V, Avngrs III, Wondrwmn 2, etc all 4 FREE! bx420-ip4-5we. 150pm. Dont miss out! \n",
            "According to Bayes Classifier the message is : Spam\n",
            "According to SVM Classifier the message is : Spam\n",
            "\n",
            "The message is :  Safely straiten teeth 100% from home!. Exciting rewards as well. Call 1234567890 to knw mre. $$$$$ click $$$$\n",
            "According to Bayes Classifier the message is : Spam\n",
            "According to SVM Classifier the message is : Ham\n"
          ],
          "name": "stdout"
        }
      ]
    }
  ]
}